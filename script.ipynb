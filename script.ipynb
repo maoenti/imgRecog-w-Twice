{
 "cells": [
  {
   "cell_type": "code",
   "execution_count": 4,
   "metadata": {},
   "outputs": [],
   "source": [
    "import os\n",
    "import shutil\n",
    "import random\n",
    "import shutil\n",
    "import tensorflow as tf\n",
    "from tensorflow.keras.preprocessing.image import ImageDataGenerator\n",
    "from shutil import copyfile\n",
    "import matplotlib.pyplot as plt\n",
    "from tensorflow.keras.optimizers import RMSprop"
   ]
  },
  {
   "cell_type": "markdown",
   "metadata": {},
   "source": [
    "## Splitting data"
   ]
  },
  {
   "cell_type": "code",
   "execution_count": 2,
   "metadata": {},
   "outputs": [
    {
     "name": "stdout",
     "output_type": "stream",
     "text": [
      "There are 697 images of Mina.\n",
      "There are 769 images of Nayeon.\n"
     ]
    }
   ],
   "source": [
    "sourcePath = 'tw'\n",
    "\n",
    "sourcePathMina = os.path.join(sourcePath, 'mina')\n",
    "sourcePathNayeon = os.path.join(sourcePath, 'nayeon')\n",
    "\n",
    "print(f\"There are {len(os.listdir(sourcePathMina))} images of Mina.\")\n",
    "print(f\"There are {len(os.listdir(sourcePathNayeon))} images of Nayeon.\")"
   ]
  },
  {
   "cell_type": "code",
   "execution_count": 8,
   "metadata": {},
   "outputs": [],
   "source": [
    "rootDir = 'trainImg'\n",
    "\n",
    "if os.path.exists(rootDir):\n",
    "    shutil.rmtree(rootDir)\n",
    "\n",
    "def create_train_test_dirs(rootPath):\n",
    "    minaTrain = os.path.join(rootPath, 'training/mina')\n",
    "    minaTest = os.path.join(rootPath, 'testing/mina')\n",
    "    nayeonTrain = os.path.join(rootPath, 'training/nayeon')\n",
    "    nayeonTest = os.path.join(rootPath, 'testing/nayeon')\n",
    "    os.makedirs(minaTrain)\n",
    "    os.makedirs(minaTest)\n",
    "    os.makedirs(nayeonTrain)\n",
    "    os.makedirs(nayeonTest)\n",
    "\n",
    "try:\n",
    "  create_train_test_dirs(rootPath=rootDir)\n",
    "except FileExistsError:\n",
    "  print(\"You should not be seeing this since the upper directory is removed beforehand\")"
   ]
  },
  {
   "cell_type": "code",
   "execution_count": 9,
   "metadata": {},
   "outputs": [],
   "source": [
    "def split_data(SOURCE, TRAINING, TESTING, SPLIT_SIZE):\n",
    "\n",
    "  files = random.sample(os.listdir(SOURCE), len(os.listdir(SOURCE)))\n",
    "  counter = 0\n",
    "  for i in files:\n",
    "    if os.path.getsize(os.path.join(SOURCE, i)) == 0:\n",
    "      print(f'{i} is zero length, so ignoring.')\n",
    "    else:\n",
    "      if(counter < int((len(files))*SPLIT_SIZE)):\n",
    "        copyfile(os.path.join(SOURCE, i), os.path.join(TRAINING, i))\n",
    "        counter += 1\n",
    "      else:\n",
    "        copyfile(os.path.join(SOURCE, i), os.path.join(TESTING, i))"
   ]
  },
  {
   "cell_type": "code",
   "execution_count": 10,
   "metadata": {},
   "outputs": [
    {
     "name": "stdout",
     "output_type": "stream",
     "text": [
      "\n",
      "\n",
      "There are 627 images of Mina for training\n",
      "There are 692 images of Nayeon for training\n",
      "There are 70 images of Mina for testing\n",
      "There are 77 images of Nayeon for testing\n"
     ]
    }
   ],
   "source": [
    "mina_source_dir = \"tw\\\\mina\"\n",
    "nayeon_source_dir = \"tw\\\\nayeon\"\n",
    "\n",
    "TRAINING_DIR = \"trainImg\\\\training\\\\\"\n",
    "TESTING_DIR = \"trainImg\\\\testing\\\\\"\n",
    "\n",
    "training_mina_dir = os.path.join(TRAINING_DIR, \"mina\\\\\")\n",
    "testing_mina_dir = os.path.join(TESTING_DIR, \"mina\\\\\")\n",
    "\n",
    "training_nayeon_dir = os.path.join(TRAINING_DIR, \"nayeon\\\\\")\n",
    "testing_nayeon_dir = os.path.join(TESTING_DIR, \"nayeon\\\\\")\n",
    "\n",
    "# Empty directories in case you run this cell multiple times\n",
    "if len(os.listdir(training_mina_dir)) > 0:\n",
    "  for file in os.scandir(training_mina_dir):\n",
    "    os.remove(file.path)\n",
    "if len(os.listdir(training_nayeon_dir)) > 0:\n",
    "  for file in os.scandir(training_nayeon_dir):\n",
    "    os.remove(file.path)\n",
    "if len(os.listdir(testing_mina_dir)) > 0:\n",
    "  for file in os.scandir(testing_mina_dir):\n",
    "    os.remove(file.path)\n",
    "if len(os.listdir(testing_nayeon_dir)) > 0:\n",
    "  for file in os.scandir(testing_nayeon_dir):\n",
    "    os.remove(file.path)\n",
    "\n",
    "# Define proportion of images used for training\n",
    "split_size = .9\n",
    "\n",
    "# Run the function\n",
    "# NOTE: Messages about zero length images should be printed out\n",
    "split_data(mina_source_dir, training_mina_dir, testing_mina_dir, split_size)\n",
    "split_data(nayeon_source_dir, training_nayeon_dir, testing_nayeon_dir, split_size)\n",
    "\n",
    "# Check that the number of images matches the expected output\n",
    "print(f\"\\n\\nThere are {len(os.listdir(training_mina_dir))} images of Mina for training\")\n",
    "print(f\"There are {len(os.listdir(training_nayeon_dir))} images of Nayeon for training\")\n",
    "print(f\"There are {len(os.listdir(testing_mina_dir))} images of Mina for testing\")\n",
    "print(f\"There are {len(os.listdir(testing_nayeon_dir))} images of Nayeon for testing\")"
   ]
  },
  {
   "cell_type": "code",
   "execution_count": 21,
   "metadata": {},
   "outputs": [],
   "source": [
    "# GRADED FUNCTION: train_val_generators\n",
    "def train_val_generators(TRAINING_DIR, VALIDATION_DIR):\n",
    "  ### START CODE HERE\n",
    "\n",
    "  batchsize = 32\n",
    "  # Instantiate the ImageDataGenerator class (don't forget to set the arguments to augment the images)\n",
    "  train_datagen = ImageDataGenerator(rescale=1.0/255.0,\n",
    "                                     rotation_range=40,\n",
    "                                     width_shift_range=0.2,\n",
    "                                     height_shift_range=0.2,\n",
    "                                     shear_range=0.2,\n",
    "                                     zoom_range=0.2,\n",
    "                                     horizontal_flip=True,\n",
    "                                     fill_mode='nearest')\n",
    "\n",
    "  # Pass in the appropriate arguments to the flow_from_directory method\n",
    "  train_generator = train_datagen.flow_from_directory(directory=TRAINING_DIR,\n",
    "                                                      batch_size=batchsize,\n",
    "                                                      class_mode='binary',\n",
    "                                                      target_size=(250, 300))\n",
    "\n",
    "  # Instantiate the ImageDataGenerator class (don't forget to set the rescale argument)\n",
    "  validation_datagen = ImageDataGenerator(rescale=1./255.)\n",
    "\n",
    "  # Pass in the appropriate arguments to the flow_from_directory method\n",
    "  validation_generator = validation_datagen.flow_from_directory(directory=VALIDATION_DIR,\n",
    "                                                                batch_size=batchsize,\n",
    "                                                                class_mode='binary',\n",
    "                                                                target_size=(250, 300))\n",
    "  ### END CODE HERE\n",
    "  return train_generator, validation_generator\n"
   ]
  },
  {
   "cell_type": "code",
   "execution_count": 22,
   "metadata": {},
   "outputs": [
    {
     "name": "stdout",
     "output_type": "stream",
     "text": [
      "Found 1319 images belonging to 2 classes.\n",
      "Found 147 images belonging to 2 classes.\n"
     ]
    }
   ],
   "source": [
    "# Test your generators\n",
    "train_generator, validation_generator = train_val_generators(TRAINING_DIR, TESTING_DIR)"
   ]
  },
  {
   "cell_type": "code",
   "execution_count": 23,
   "metadata": {},
   "outputs": [],
   "source": [
    "# GRADED FUNCTION: create_model\n",
    "def create_model():\n",
    "  # DEFINE A KERAS MODEL TO CLASSIFY CATS V DOGS\n",
    "  # USE AT LEAST 3 CONVOLUTION LAYERS\n",
    "\n",
    "  ### START CODE HERE\n",
    "\n",
    "  model = tf.keras.models.Sequential([ \n",
    "    tf.keras.layers.Conv2D(16, (3,3), activation='relu', input_shape=(250, 300, 3)),\n",
    "    tf.keras.layers.MaxPooling2D(2,2),\n",
    "    tf.keras.layers.Conv2D(32, (3,3), activation='relu'),\n",
    "    tf.keras.layers.MaxPooling2D(2,2), \n",
    "    tf.keras.layers.Conv2D(64, (3,3), activation='relu'), \n",
    "    tf.keras.layers.MaxPooling2D(2,2),\n",
    "    tf.keras.layers.Flatten(), \n",
    "    tf.keras.layers.Dense(512, activation='relu'), \n",
    "    tf.keras.layers.Dense(1, activation='sigmoid'),\n",
    "  ])\n",
    "\n",
    "  \n",
    "  model.compile(optimizer='adam',\n",
    "                loss='binary_crossentropy',\n",
    "                metrics=['accuracy']) \n",
    "    \n",
    "  ### END CODE HERE\n",
    "\n",
    "  return model\n"
   ]
  },
  {
   "cell_type": "code",
   "execution_count": 24,
   "metadata": {},
   "outputs": [
    {
     "name": "stdout",
     "output_type": "stream",
     "text": [
      "Epoch 1/15\n",
      "42/42 [==============================] - 132s 3s/step - loss: 0.9076 - accuracy: 0.5777 - val_loss: 0.6486 - val_accuracy: 0.5442\n",
      "Epoch 2/15\n",
      "42/42 [==============================] - 73s 2s/step - loss: 0.6711 - accuracy: 0.5618 - val_loss: 0.6292 - val_accuracy: 0.7279\n",
      "Epoch 3/15\n",
      "42/42 [==============================] - 74s 2s/step - loss: 0.6659 - accuracy: 0.5565 - val_loss: 0.6268 - val_accuracy: 0.5578\n",
      "Epoch 4/15\n",
      "42/42 [==============================] - 74s 2s/step - loss: 0.6555 - accuracy: 0.5838 - val_loss: 0.5992 - val_accuracy: 0.6735\n",
      "Epoch 5/15\n",
      "42/42 [==============================] - 74s 2s/step - loss: 0.6725 - accuracy: 0.6224 - val_loss: 0.6304 - val_accuracy: 0.6667\n",
      "Epoch 6/15\n",
      "42/42 [==============================] - 74s 2s/step - loss: 0.6536 - accuracy: 0.6459 - val_loss: 0.5916 - val_accuracy: 0.6599\n",
      "Epoch 7/15\n",
      "42/42 [==============================] - 75s 2s/step - loss: 0.6321 - accuracy: 0.6770 - val_loss: 0.5921 - val_accuracy: 0.7075\n",
      "Epoch 8/15\n",
      "42/42 [==============================] - 73s 2s/step - loss: 0.6344 - accuracy: 0.6497 - val_loss: 0.5839 - val_accuracy: 0.7211\n",
      "Epoch 9/15\n",
      "42/42 [==============================] - 74s 2s/step - loss: 0.6267 - accuracy: 0.6596 - val_loss: 0.5659 - val_accuracy: 0.7143\n",
      "Epoch 10/15\n",
      "42/42 [==============================] - 73s 2s/step - loss: 0.6290 - accuracy: 0.6694 - val_loss: 0.5409 - val_accuracy: 0.7551\n",
      "Epoch 11/15\n",
      "42/42 [==============================] - 73s 2s/step - loss: 0.6003 - accuracy: 0.7028 - val_loss: 0.5340 - val_accuracy: 0.7347\n",
      "Epoch 12/15\n",
      "42/42 [==============================] - 72s 2s/step - loss: 0.5991 - accuracy: 0.6975 - val_loss: 0.5155 - val_accuracy: 0.7347\n",
      "Epoch 13/15\n",
      "42/42 [==============================] - 65s 2s/step - loss: 0.5959 - accuracy: 0.6937 - val_loss: 0.5370 - val_accuracy: 0.7755\n",
      "Epoch 14/15\n",
      "42/42 [==============================] - 66s 2s/step - loss: 0.5907 - accuracy: 0.6990 - val_loss: 0.5030 - val_accuracy: 0.7687\n",
      "Epoch 15/15\n",
      "42/42 [==============================] - 64s 2s/step - loss: 0.5789 - accuracy: 0.6914 - val_loss: 0.4835 - val_accuracy: 0.7755\n"
     ]
    }
   ],
   "source": [
    "# Get the untrained model\n",
    "model = create_model()\n",
    "\n",
    "# Train the model\n",
    "# Note that this may take some time.\n",
    "history = model.fit(train_generator,\n",
    "                    epochs=15,\n",
    "                    verbose=1,\n",
    "                    validation_data=validation_generator)"
   ]
  },
  {
   "cell_type": "code",
   "execution_count": 15,
   "metadata": {},
   "outputs": [
    {
     "data": {
      "image/png": "[encoded data removed]",
      "text/plain": [
       "<Figure size 432x288 with 1 Axes>"
      ]
     },
     "metadata": {
      "needs_background": "light"
     },
     "output_type": "display_data"
    },
    {
     "name": "stdout",
     "output_type": "stream",
     "text": [
      "\n"
     ]
    },
    {
     "data": {
      "image/png": "[encoded data removed]",
      "text/plain": [
       "<Figure size 432x288 with 1 Axes>"
      ]
     },
     "metadata": {
      "needs_background": "light"
     },
     "output_type": "display_data"
    }
   ],
   "source": [
    "#-----------------------------------------------------------\n",
    "# Retrieve a list of list results on training and test data\n",
    "# sets for each training epoch\n",
    "#-----------------------------------------------------------\n",
    "acc=history.history['accuracy']\n",
    "val_acc=history.history['val_accuracy']\n",
    "loss=history.history['loss']\n",
    "val_loss=history.history['val_loss']\n",
    "\n",
    "epochs=range(len(acc)) # Get number of epochs\n",
    "\n",
    "#------------------------------------------------\n",
    "# Plot training and validation accuracy per epoch\n",
    "#------------------------------------------------\n",
    "plt.plot(epochs, acc, 'r', \"Training Accuracy\")\n",
    "plt.plot(epochs, val_acc, 'b', \"Validation Accuracy\")\n",
    "plt.title('Training and validation accuracy')\n",
    "plt.show()\n",
    "print(\"\")\n",
    "\n",
    "#------------------------------------------------\n",
    "# Plot training and validation loss per epoch\n",
    "#------------------------------------------------\n",
    "plt.plot(epochs, loss, 'r', \"Training Loss\")\n",
    "plt.plot(epochs, val_loss, 'b', \"Validation Loss\")\n",
    "plt.show()"
   ]
  }
 ],
 "metadata": {
  "interpreter": {
   "hash": "3e026b3d28a100ad26d91993a46babda80c0611655ce4c5e3d2e06ebceec39d4"
  },
  "kernelspec": {
   "display_name": "Python 3.10.0 64-bit",
   "language": "python",
   "name": "python3"
  },
  "language_info": {
   "codemirror_mode": {
    "name": "ipython",
    "version": 3
   },
   "file_extension": ".py",
   "mimetype": "text/x-python",
   "name": "python",
   "nbconvert_exporter": "python",
   "pygments_lexer": "ipython3",
   "version": "3.10.0"
  },
  "orig_nbformat": 4
 },
 "nbformat": 4,
 "nbformat_minor": 2
}
