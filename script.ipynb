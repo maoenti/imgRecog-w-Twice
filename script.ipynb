{
 "cells": [
  {
   "cell_type": "code",
   "execution_count": 1,
   "metadata": {},
   "outputs": [],
   "source": [
    "import os\n",
    "import shutil\n",
    "import random\n",
    "import shutil\n",
    "import tensorflow as tf\n",
    "from tensorflow.keras.preprocessing.image import ImageDataGenerator\n",
    "from shutil import copyfile\n",
    "import matplotlib.pyplot as plt\n",
    "from tensorflow.keras.optimizers import RMSprop"
   ]
  },
  {
   "cell_type": "markdown",
   "metadata": {},
   "source": [
    "## Splitting data"
   ]
  },
  {
   "cell_type": "code",
   "execution_count": 2,
   "metadata": {},
   "outputs": [
    {
     "name": "stdout",
     "output_type": "stream",
     "text": [
      "There are 1018 images of Mina.\n",
      "There are 1120 images of Nayeon.\n"
     ]
    }
   ],
   "source": [
    "sourcePath = '..\\\\tw'\n",
    "\n",
    "sourcePathMina = os.path.join(sourcePath, 'mina')\n",
    "sourcePathNayeon = os.path.join(sourcePath, 'nayeon')\n",
    "\n",
    "print(f\"There are {len(os.listdir(sourcePathMina))} images of Mina.\")\n",
    "print(f\"There are {len(os.listdir(sourcePathNayeon))} images of Nayeon.\")"
   ]
  },
  {
   "cell_type": "code",
   "execution_count": 3,
   "metadata": {},
   "outputs": [],
   "source": [
    "rootDir = '..\\\\trainImg'\n",
    "\n",
    "if os.path.exists(rootDir):\n",
    "    shutil.rmtree(rootDir)\n",
    "\n",
    "def create_train_test_dirs(rootPath):\n",
    "    minaTrain = os.path.join(rootPath, 'training/mina')\n",
    "    minaTest = os.path.join(rootPath, 'testing/mina')\n",
    "    nayeonTrain = os.path.join(rootPath, 'training/nayeon')\n",
    "    nayeonTest = os.path.join(rootPath, 'testing/nayeon')\n",
    "    os.makedirs(minaTrain)\n",
    "    os.makedirs(minaTest)\n",
    "    os.makedirs(nayeonTrain)\n",
    "    os.makedirs(nayeonTest)\n",
    "\n",
    "try:\n",
    "  create_train_test_dirs(rootPath=rootDir)\n",
    "except FileExistsError:\n",
    "  print(\"You should not be seeing this since the upper directory is removed beforehand\")"
   ]
  },
  {
   "cell_type": "code",
   "execution_count": 4,
   "metadata": {},
   "outputs": [],
   "source": [
    "def split_data(SOURCE, TRAINING, TESTING, SPLIT_SIZE):\n",
    "\n",
    "  files = random.sample(os.listdir(SOURCE), len(os.listdir(SOURCE)))\n",
    "  counter = 0\n",
    "  for i in files:\n",
    "    if os.path.getsize(os.path.join(SOURCE, i)) == 0:\n",
    "      print(f'{i} is zero length, so ignoring.')\n",
    "    else:\n",
    "      if(counter < int((len(files))*SPLIT_SIZE)):\n",
    "        copyfile(os.path.join(SOURCE, i), os.path.join(TRAINING, i))\n",
    "        counter += 1\n",
    "      else:\n",
    "        copyfile(os.path.join(SOURCE, i), os.path.join(TESTING, i))"
   ]
  },
  {
   "cell_type": "code",
   "execution_count": 5,
   "metadata": {},
   "outputs": [
    {
     "name": "stdout",
     "output_type": "stream",
     "text": [
      "\n",
      "\n",
      "There are 916 images of Mina for training\n",
      "There are 1008 images of Nayeon for training\n",
      "There are 102 images of Mina for testing\n",
      "There are 112 images of Nayeon for testing\n"
     ]
    }
   ],
   "source": [
    "mina_source_dir = \"..\\\\tw\\\\mina\"\n",
    "nayeon_source_dir = \"..\\\\tw\\\\nayeon\"\n",
    "\n",
    "TRAINING_DIR = \"..\\\\trainImg\\\\training\\\\\"\n",
    "TESTING_DIR = \"..\\\\trainImg\\\\testing\\\\\"\n",
    "\n",
    "training_mina_dir = os.path.join(TRAINING_DIR, \"mina\\\\\")\n",
    "testing_mina_dir = os.path.join(TESTING_DIR, \"mina\\\\\")\n",
    "\n",
    "training_nayeon_dir = os.path.join(TRAINING_DIR, \"nayeon\\\\\")\n",
    "testing_nayeon_dir = os.path.join(TESTING_DIR, \"nayeon\\\\\")\n",
    "\n",
    "# Empty directories in case you run this cell multiple times\n",
    "if len(os.listdir(training_mina_dir)) > 0:\n",
    "  for file in os.scandir(training_mina_dir):\n",
    "    os.remove(file.path)\n",
    "if len(os.listdir(training_nayeon_dir)) > 0:\n",
    "  for file in os.scandir(training_nayeon_dir):\n",
    "    os.remove(file.path)\n",
    "if len(os.listdir(testing_mina_dir)) > 0:\n",
    "  for file in os.scandir(testing_mina_dir):\n",
    "    os.remove(file.path)\n",
    "if len(os.listdir(testing_nayeon_dir)) > 0:\n",
    "  for file in os.scandir(testing_nayeon_dir):\n",
    "    os.remove(file.path)\n",
    "\n",
    "# Define proportion of images used for training\n",
    "split_size = .9\n",
    "\n",
    "# Run the function\n",
    "# NOTE: Messages about zero length images should be printed out\n",
    "split_data(mina_source_dir, training_mina_dir, testing_mina_dir, split_size)\n",
    "split_data(nayeon_source_dir, training_nayeon_dir, testing_nayeon_dir, split_size)\n",
    "\n",
    "# Check that the number of images matches the expected output\n",
    "print(f\"\\n\\nThere are {len(os.listdir(training_mina_dir))} images of Mina for training\")\n",
    "print(f\"There are {len(os.listdir(training_nayeon_dir))} images of Nayeon for training\")\n",
    "print(f\"There are {len(os.listdir(testing_mina_dir))} images of Mina for testing\")\n",
    "print(f\"There are {len(os.listdir(testing_nayeon_dir))} images of Nayeon for testing\")"
   ]
  },
  {
   "cell_type": "code",
   "execution_count": 25,
   "metadata": {},
   "outputs": [],
   "source": [
    "# GRADED FUNCTION: train_val_generators\n",
    "def train_val_generators(TRAINING_DIR, VALIDATION_DIR):\n",
    "  ### START CODE HERE\n",
    "\n",
    "  batchsize = 32\n",
    "  # Instantiate the ImageDataGenerator class (don't forget to set the arguments to augment the images)\n",
    "  train_datagen = ImageDataGenerator(rescale=1.0/255.0,\n",
    "                                     rotation_range=40,\n",
    "                                     width_shift_range=0.2,\n",
    "                                     height_shift_range=0.2,\n",
    "                                     shear_range=0.2,\n",
    "                                     horizontal_flip=True,\n",
    "                                     fill_mode='nearest')\n",
    "\n",
    "  # Pass in the appropriate arguments to the flow_from_directory method\n",
    "  train_generator = train_datagen.flow_from_directory(directory=TRAINING_DIR,\n",
    "                                                      batch_size=batchsize,\n",
    "                                                      class_mode='binary',\n",
    "                                                      target_size=(300, 300))\n",
    "\n",
    "  # Instantiate the ImageDataGenerator class (don't forget to set the rescale argument)\n",
    "  validation_datagen = ImageDataGenerator(rescale=1./255.)\n",
    "\n",
    "  # Pass in the appropriate arguments to the flow_from_directory method\n",
    "  validation_generator = validation_datagen.flow_from_directory(directory=VALIDATION_DIR,\n",
    "                                                                batch_size=batchsize,\n",
    "                                                                class_mode='binary',\n",
    "                                                                target_size=(300, 300))\n",
    "  ### END CODE HERE\n",
    "  return train_generator, validation_generator\n"
   ]
  },
  {
   "cell_type": "code",
   "execution_count": 26,
   "metadata": {},
   "outputs": [
    {
     "name": "stdout",
     "output_type": "stream",
     "text": [
      "Found 1924 images belonging to 2 classes.\n",
      "Found 214 images belonging to 2 classes.\n"
     ]
    }
   ],
   "source": [
    "# Test your generators\n",
    "train_generator, validation_generator = train_val_generators(TRAINING_DIR, TESTING_DIR)"
   ]
  },
  {
   "cell_type": "code",
   "execution_count": 31,
   "metadata": {},
   "outputs": [],
   "source": [
    "# GRADED FUNCTION: create_model\n",
    "def create_model():\n",
    "\n",
    "  ### START CODE HERE\n",
    "\n",
    "  model = tf.keras.models.Sequential([ \n",
    "    tf.keras.layers.Conv2D(16, (3,3), activation='relu', input_shape=(300, 300, 3)),\n",
    "    tf.keras.layers.MaxPooling2D(2,2),\n",
    "    tf.keras.layers.Conv2D(32, (3,3), activation='relu'),\n",
    "    tf.keras.layers.MaxPooling2D(2,2), \n",
    "    tf.keras.layers.Conv2D(64, (3,3), activation='relu'), \n",
    "    tf.keras.layers.MaxPooling2D(2,2),\n",
    "    tf.keras.layers.Flatten(), \n",
    "    tf.keras.layers.Dense(512, activation='relu'), \n",
    "    tf.keras.layers.Dense(1, activation='sigmoid'),\n",
    "  ])\n",
    "\n",
    "  \n",
    "  model.compile(optimizer=RMSprop(lr=0.0001),\n",
    "                loss='binary_crossentropy',\n",
    "                metrics=['accuracy']) \n",
    "    \n",
    "  ### END CODE HERE\n",
    "\n",
    "  return model\n"
   ]
  },
  {
   "cell_type": "code",
   "execution_count": 33,
   "metadata": {},
   "outputs": [
    {
     "name": "stdout",
     "output_type": "stream",
     "text": [
      "Epoch 1/50\n",
      "61/61 [==============================] - 151s 2s/step - loss: 0.7338 - accuracy: 0.5754 - val_loss: 0.6525 - val_accuracy: 0.6028\n",
      "Epoch 2/50\n",
      "61/61 [==============================] - 139s 2s/step - loss: 0.6465 - accuracy: 0.6351 - val_loss: 0.7186 - val_accuracy: 0.5514\n",
      "Epoch 3/50\n",
      "61/61 [==============================] - 137s 2s/step - loss: 0.6331 - accuracy: 0.6424 - val_loss: 0.6003 - val_accuracy: 0.6822\n",
      "Epoch 4/50\n",
      "61/61 [==============================] - 138s 2s/step - loss: 0.6232 - accuracy: 0.6710 - val_loss: 0.5885 - val_accuracy: 0.7056\n",
      "Epoch 5/50\n",
      "61/61 [==============================] - 136s 2s/step - loss: 0.6102 - accuracy: 0.6720 - val_loss: 0.5675 - val_accuracy: 0.6729\n",
      "Epoch 6/50\n",
      "61/61 [==============================] - 136s 2s/step - loss: 0.6091 - accuracy: 0.6830 - val_loss: 0.5694 - val_accuracy: 0.7150\n",
      "Epoch 7/50\n",
      "61/61 [==============================] - 129s 2s/step - loss: 0.5973 - accuracy: 0.6871 - val_loss: 0.5585 - val_accuracy: 0.7009\n",
      "Epoch 8/50\n",
      "61/61 [==============================] - 123s 2s/step - loss: 0.5973 - accuracy: 0.6913 - val_loss: 0.5527 - val_accuracy: 0.6776\n",
      "Epoch 9/50\n",
      "61/61 [==============================] - 122s 2s/step - loss: 0.5922 - accuracy: 0.6897 - val_loss: 0.5623 - val_accuracy: 0.7056\n",
      "Epoch 10/50\n",
      "61/61 [==============================] - 122s 2s/step - loss: 0.5772 - accuracy: 0.7048 - val_loss: 0.5275 - val_accuracy: 0.7570\n",
      "Epoch 11/50\n",
      "61/61 [==============================] - 123s 2s/step - loss: 0.5709 - accuracy: 0.7006 - val_loss: 0.5383 - val_accuracy: 0.7710\n",
      "Epoch 12/50\n",
      "61/61 [==============================] - 122s 2s/step - loss: 0.5707 - accuracy: 0.7074 - val_loss: 0.5139 - val_accuracy: 0.7336\n",
      "Epoch 13/50\n",
      "61/61 [==============================] - 122s 2s/step - loss: 0.5644 - accuracy: 0.7204 - val_loss: 0.5175 - val_accuracy: 0.7477\n",
      "Epoch 14/50\n",
      "61/61 [==============================] - 122s 2s/step - loss: 0.5464 - accuracy: 0.7344 - val_loss: 0.5180 - val_accuracy: 0.7383\n",
      "Epoch 15/50\n",
      "61/61 [==============================] - 122s 2s/step - loss: 0.5597 - accuracy: 0.7214 - val_loss: 0.5066 - val_accuracy: 0.7523\n",
      "Epoch 16/50\n",
      "61/61 [==============================] - 122s 2s/step - loss: 0.5414 - accuracy: 0.7386 - val_loss: 0.5269 - val_accuracy: 0.7336\n",
      "Epoch 17/50\n",
      "61/61 [==============================] - 122s 2s/step - loss: 0.5408 - accuracy: 0.7297 - val_loss: 0.5080 - val_accuracy: 0.7243\n",
      "Epoch 18/50\n",
      "61/61 [==============================] - 122s 2s/step - loss: 0.5336 - accuracy: 0.7297 - val_loss: 0.5283 - val_accuracy: 0.7430\n",
      "Epoch 19/50\n",
      "61/61 [==============================] - 122s 2s/step - loss: 0.5349 - accuracy: 0.7334 - val_loss: 0.4949 - val_accuracy: 0.7383\n",
      "Epoch 20/50\n",
      "61/61 [==============================] - 122s 2s/step - loss: 0.5255 - accuracy: 0.7297 - val_loss: 0.4953 - val_accuracy: 0.7523\n",
      "Epoch 21/50\n",
      "61/61 [==============================] - 123s 2s/step - loss: 0.5252 - accuracy: 0.7464 - val_loss: 0.4850 - val_accuracy: 0.7430\n",
      "Epoch 22/50\n",
      "61/61 [==============================] - 122s 2s/step - loss: 0.5130 - accuracy: 0.7536 - val_loss: 0.4743 - val_accuracy: 0.7897\n",
      "Epoch 23/50\n",
      "61/61 [==============================] - 122s 2s/step - loss: 0.5086 - accuracy: 0.7552 - val_loss: 0.4906 - val_accuracy: 0.7477\n",
      "Epoch 24/50\n",
      "61/61 [==============================] - 122s 2s/step - loss: 0.5061 - accuracy: 0.7474 - val_loss: 0.4572 - val_accuracy: 0.7570\n",
      "Epoch 25/50\n",
      "61/61 [==============================] - 122s 2s/step - loss: 0.4917 - accuracy: 0.7661 - val_loss: 0.5364 - val_accuracy: 0.7336\n",
      "Epoch 26/50\n",
      "61/61 [==============================] - 123s 2s/step - loss: 0.4941 - accuracy: 0.7729 - val_loss: 0.4584 - val_accuracy: 0.7523\n",
      "Epoch 27/50\n",
      "61/61 [==============================] - 122s 2s/step - loss: 0.5017 - accuracy: 0.7526 - val_loss: 0.4816 - val_accuracy: 0.7617\n",
      "Epoch 28/50\n",
      "61/61 [==============================] - 122s 2s/step - loss: 0.5034 - accuracy: 0.7516 - val_loss: 0.4649 - val_accuracy: 0.7477\n",
      "Epoch 29/50\n",
      "61/61 [==============================] - 122s 2s/step - loss: 0.4917 - accuracy: 0.7625 - val_loss: 0.4485 - val_accuracy: 0.7617\n",
      "Epoch 30/50\n",
      "61/61 [==============================] - 124s 2s/step - loss: 0.4816 - accuracy: 0.7807 - val_loss: 0.4560 - val_accuracy: 0.7897\n",
      "Epoch 31/50\n",
      "61/61 [==============================] - 122s 2s/step - loss: 0.4841 - accuracy: 0.7635 - val_loss: 0.4537 - val_accuracy: 0.7850\n",
      "Epoch 32/50\n",
      "61/61 [==============================] - 122s 2s/step - loss: 0.4833 - accuracy: 0.7646 - val_loss: 0.4943 - val_accuracy: 0.7664\n",
      "Epoch 33/50\n",
      "61/61 [==============================] - 122s 2s/step - loss: 0.4852 - accuracy: 0.7630 - val_loss: 0.4481 - val_accuracy: 0.7944\n",
      "Epoch 34/50\n",
      "61/61 [==============================] - 123s 2s/step - loss: 0.4790 - accuracy: 0.7703 - val_loss: 0.4457 - val_accuracy: 0.7757\n",
      "Epoch 35/50\n",
      "61/61 [==============================] - 124s 2s/step - loss: 0.4738 - accuracy: 0.7739 - val_loss: 0.4481 - val_accuracy: 0.7804\n",
      "Epoch 36/50\n",
      "61/61 [==============================] - 122s 2s/step - loss: 0.4640 - accuracy: 0.7864 - val_loss: 0.4416 - val_accuracy: 0.7523\n",
      "Epoch 37/50\n",
      "61/61 [==============================] - 123s 2s/step - loss: 0.4680 - accuracy: 0.7822 - val_loss: 0.4566 - val_accuracy: 0.7804\n",
      "Epoch 38/50\n",
      "61/61 [==============================] - 122s 2s/step - loss: 0.4493 - accuracy: 0.7853 - val_loss: 0.4209 - val_accuracy: 0.7804\n",
      "Epoch 39/50\n",
      "61/61 [==============================] - 122s 2s/step - loss: 0.4653 - accuracy: 0.7843 - val_loss: 0.4586 - val_accuracy: 0.7570\n",
      "Epoch 40/50\n",
      "61/61 [==============================] - 124s 2s/step - loss: 0.4585 - accuracy: 0.7921 - val_loss: 0.5480 - val_accuracy: 0.7383\n",
      "Epoch 41/50\n",
      "61/61 [==============================] - 122s 2s/step - loss: 0.4702 - accuracy: 0.7770 - val_loss: 0.4442 - val_accuracy: 0.7804\n",
      "Epoch 42/50\n",
      "61/61 [==============================] - 122s 2s/step - loss: 0.4565 - accuracy: 0.7890 - val_loss: 0.4655 - val_accuracy: 0.7664\n",
      "Epoch 43/50\n",
      "61/61 [==============================] - 123s 2s/step - loss: 0.4436 - accuracy: 0.7931 - val_loss: 0.4240 - val_accuracy: 0.8224\n",
      "Epoch 44/50\n",
      "61/61 [==============================] - 122s 2s/step - loss: 0.4516 - accuracy: 0.7859 - val_loss: 0.4240 - val_accuracy: 0.7850\n",
      "Epoch 45/50\n",
      "61/61 [==============================] - 122s 2s/step - loss: 0.4300 - accuracy: 0.7921 - val_loss: 0.4316 - val_accuracy: 0.7991\n",
      "Epoch 46/50\n",
      "61/61 [==============================] - 122s 2s/step - loss: 0.4421 - accuracy: 0.7968 - val_loss: 0.4545 - val_accuracy: 0.7804\n",
      "Epoch 47/50\n",
      "61/61 [==============================] - 122s 2s/step - loss: 0.4402 - accuracy: 0.7843 - val_loss: 0.4663 - val_accuracy: 0.7757\n",
      "Epoch 48/50\n",
      "61/61 [==============================] - 124s 2s/step - loss: 0.4393 - accuracy: 0.7947 - val_loss: 0.4129 - val_accuracy: 0.7944\n",
      "Epoch 49/50\n",
      "61/61 [==============================] - 123s 2s/step - loss: 0.4377 - accuracy: 0.8030 - val_loss: 0.4318 - val_accuracy: 0.7757\n",
      "Epoch 50/50\n",
      "61/61 [==============================] - 123s 2s/step - loss: 0.4280 - accuracy: 0.8056 - val_loss: 0.4861 - val_accuracy: 0.7804\n"
     ]
    }
   ],
   "source": [
    "# Get the untrained model\n",
    "model = create_model()\n",
    "\n",
    "# Train the model\n",
    "# Note that this may take some time.\n",
    "history = model.fit(train_generator,\n",
    "                    epochs=50,\n",
    "                    verbose=1,\n",
    "                    validation_data=validation_generator)"
   ]
  },
  {
   "cell_type": "code",
   "execution_count": 34,
   "metadata": {},
   "outputs": [
    {
     "data": {
      "image/png": "[encoded data removed]",
      "text/plain": [
       "<Figure size 432x288 with 1 Axes>"
      ]
     },
     "metadata": {
      "needs_background": "light"
     },
     "output_type": "display_data"
    },
    {
     "name": "stdout",
     "output_type": "stream",
     "text": [
      "\n"
     ]
    },
    {
     "data": {
      "image/png": "[encoded data removed]",
      "text/plain": [
       "<Figure size 432x288 with 1 Axes>"
      ]
     },
     "metadata": {
      "needs_background": "light"
     },
     "output_type": "display_data"
    }
   ],
   "source": [
    "#-----------------------------------------------------------\n",
    "# Retrieve a list of list results on training and test data\n",
    "# sets for each training epoch\n",
    "#-----------------------------------------------------------\n",
    "acc=history.history['accuracy']\n",
    "val_acc=history.history['val_accuracy']\n",
    "loss=history.history['loss']\n",
    "val_loss=history.history['val_loss']\n",
    "\n",
    "epochs=range(len(acc)) # Get number of epochs\n",
    "\n",
    "#------------------------------------------------\n",
    "# Plot training and validation accuracy per epoch\n",
    "#------------------------------------------------\n",
    "plt.plot(epochs, acc, 'r', \"Training Accuracy\")\n",
    "plt.plot(epochs, val_acc, 'b', \"Validation Accuracy\")\n",
    "plt.title('Training and validation accuracy')\n",
    "plt.show()\n",
    "print(\"\")\n",
    "\n",
    "#------------------------------------------------\n",
    "# Plot training and validation loss per epoch\n",
    "#------------------------------------------------\n",
    "plt.plot(epochs, loss, 'r', \"Training Loss\")\n",
    "plt.plot(epochs, val_loss, 'b', \"Validation Loss\")\n",
    "plt.show()"
   ]
  }
 ],
 "metadata": {
  "interpreter": {
   "hash": "3e026b3d28a100ad26d91993a46babda80c0611655ce4c5e3d2e06ebceec39d4"
  },
  "kernelspec": {
   "display_name": "Python 3.10.0 64-bit",
   "language": "python",
   "name": "python3"
  },
  "language_info": {
   "codemirror_mode": {
    "name": "ipython",
    "version": 3
   },
   "file_extension": ".py",
   "mimetype": "text/x-python",
   "name": "python",
   "nbconvert_exporter": "python",
   "pygments_lexer": "ipython3",
   "version": "3.10.0"
  },
  "orig_nbformat": 4
 },
 "nbformat": 4,
 "nbformat_minor": 2
}
